{
 "cells": [
  {
   "cell_type": "code",
   "execution_count": 7,
   "metadata": {},
   "outputs": [],
   "source": [
    "from pathlib import Path\n",
    "import adios2"
   ]
  },
  {
   "cell_type": "code",
   "execution_count": 2,
   "metadata": {},
   "outputs": [],
   "source": [
    "cylinder_path = Path(\"../data/cylinder\")"
   ]
  },
  {
   "cell_type": "code",
   "execution_count": 6,
   "metadata": {},
   "outputs": [],
   "source": [
    "t350 = cylinder_path / \"adiosData\" / \"350.bp\""
   ]
  },
  {
   "cell_type": "code",
   "execution_count": 12,
   "metadata": {},
   "outputs": [],
   "source": [
    "data = adios2.open(str(t350), \"r\")"
   ]
  },
  {
   "cell_type": "code",
   "execution_count": 15,
   "metadata": {},
   "outputs": [
    {
     "data": {
      "text/plain": [
       "{'/openfoam/api': {'Elements': '1', 'Type': 'int32_t', 'Value': '1912'},\n",
       " '/openfoam/endian': {'Elements': '1', 'Type': 'string', 'Value': '\"LSB\"'},\n",
       " '/openfoam/label': {'Elements': '1', 'Type': 'int32_t', 'Value': '32'},\n",
       " '/openfoam/nProcs': {'Elements': '1', 'Type': 'int32_t', 'Value': '1'},\n",
       " '/openfoam/nRegions': {'Elements': '1', 'Type': 'int32_t', 'Value': '1'},\n",
       " '/openfoam/patch': {'Elements': '1', 'Type': 'string', 'Value': '\"0\"'},\n",
       " '/openfoam/regions': {'Elements': '1',\n",
       "  'Type': 'string',\n",
       "  'Value': '{ \"region0\" }'},\n",
       " '/openfoam/scalar': {'Elements': '1', 'Type': 'int32_t', 'Value': '64'},\n",
       " '/time/deltaT': {'Elements': '1', 'Type': 'double', 'Value': '0.05'},\n",
       " '/time/deltaT0': {'Elements': '1', 'Type': 'double', 'Value': '0.05'},\n",
       " '/time/faces': {'Elements': '1', 'Type': 'double', 'Value': '0'},\n",
       " '/time/index': {'Elements': '1', 'Type': 'int32_t', 'Value': '7000'},\n",
       " '/time/points': {'Elements': '1', 'Type': 'double', 'Value': '0'},\n",
       " '/time/value': {'Elements': '1', 'Type': 'double', 'Value': '350'},\n",
       " 'region0/field/U/class': {'Elements': '1',\n",
       "  'Type': 'string',\n",
       "  'Value': '\"volVectorField\"'},\n",
       " 'region0/field/U/dimensions': {'Elements': '7',\n",
       "  'Type': 'double',\n",
       "  'Value': '{ 0, 1, -1, 0, 0, 0, 0 }'},\n",
       " 'region0/field/U/patch-types': {'Elements': '7',\n",
       "  'Type': 'string',\n",
       "  'Value': '{ \"inletOutlet\", \"symmetryPlane\", \"symmetryPlane\", \"fixedValue\", \"fixedValue\", \"empty\", \"empty\" }'},\n",
       " 'region0/field/U_0/class': {'Elements': '1',\n",
       "  'Type': 'string',\n",
       "  'Value': '\"volVectorField\"'},\n",
       " 'region0/field/U_0/dimensions': {'Elements': '7',\n",
       "  'Type': 'double',\n",
       "  'Value': '{ 0, 1, -1, 0, 0, 0, 0 }'},\n",
       " 'region0/field/U_0/patch-types': {'Elements': '7',\n",
       "  'Type': 'string',\n",
       "  'Value': '{ \"inletOutlet\", \"symmetryPlane\", \"symmetryPlane\", \"fixedValue\", \"fixedValue\", \"empty\", \"empty\" }'},\n",
       " 'region0/field/p/class': {'Elements': '1',\n",
       "  'Type': 'string',\n",
       "  'Value': '\"volScalarField\"'},\n",
       " 'region0/field/p/dimensions': {'Elements': '7',\n",
       "  'Type': 'double',\n",
       "  'Value': '{ 0, 2, -2, 0, 0, 0, 0 }'},\n",
       " 'region0/field/p/patch-types': {'Elements': '7',\n",
       "  'Type': 'string',\n",
       "  'Value': '{ \"fixedValue\", \"symmetryPlane\", \"symmetryPlane\", \"zeroGradient\", \"zeroGradient\", \"empty\", \"empty\" }'},\n",
       " 'region0/field/phi/class': {'Elements': '1',\n",
       "  'Type': 'string',\n",
       "  'Value': '\"surfaceScalarField\"'},\n",
       " 'region0/field/phi/dimensions': {'Elements': '7',\n",
       "  'Type': 'double',\n",
       "  'Value': '{ 0, 3, -1, 0, 0, 0, 0 }'},\n",
       " 'region0/field/phi/patch-types': {'Elements': '7',\n",
       "  'Type': 'string',\n",
       "  'Value': '{ \"calculated\", \"symmetryPlane\", \"symmetryPlane\", \"calculated\", \"calculated\", \"empty\", \"empty\" }'},\n",
       " 'region0/field/phi_0/class': {'Elements': '1',\n",
       "  'Type': 'string',\n",
       "  'Value': '\"surfaceScalarField\"'},\n",
       " 'region0/field/phi_0/dimensions': {'Elements': '7',\n",
       "  'Type': 'double',\n",
       "  'Value': '{ 0, 3, -1, 0, 0, 0, 0 }'},\n",
       " 'region0/field/phi_0/patch-types': {'Elements': '7',\n",
       "  'Type': 'string',\n",
       "  'Value': '{ \"calculated\", \"symmetryPlane\", \"symmetryPlane\", \"calculated\", \"calculated\", \"empty\", \"empty\" }'},\n",
       " 'region0/nPatches': {'Elements': '1', 'Type': 'int32_t', 'Value': '7'},\n",
       " 'region0/patch-names': {'Elements': '7',\n",
       "  'Type': 'string',\n",
       "  'Value': '{ \"out\", \"sym1\", \"sym2\", \"in\", \"cylinder\", \"back\", \"front\" }'},\n",
       " 'region0/patch-types': {'Elements': '7',\n",
       "  'Type': 'string',\n",
       "  'Value': '{ \"patch\", \"symmetryPlane\", \"symmetryPlane\", \"patch\", \"wall\", \"empty\", \"empty\" }'}}"
      ]
     },
     "execution_count": 15,
     "metadata": {},
     "output_type": "execute_result"
    }
   ],
   "source": [
    "data.available_attributes()"
   ]
  },
  {
   "cell_type": "code",
   "execution_count": 17,
   "metadata": {},
   "outputs": [
    {
     "data": {
      "text/plain": [
       "{'region0/field/U': {'AvailableStepsCount': '1',\n",
       "  'Max': '1.42497',\n",
       "  'Min': '-0.746992',\n",
       "  'Shape': '',\n",
       "  'SingleValue': 'false',\n",
       "  'Type': 'double'},\n",
       " 'region0/field/U/boundaryField': {'AvailableStepsCount': '1',\n",
       "  'Max': '127',\n",
       "  'Min': '-128',\n",
       "  'Shape': '',\n",
       "  'SingleValue': 'false',\n",
       "  'Type': 'int8_t'},\n",
       " 'region0/field/U_0': {'AvailableStepsCount': '1',\n",
       "  'Max': '1.42732',\n",
       "  'Min': '-0.747904',\n",
       "  'Shape': '',\n",
       "  'SingleValue': 'false',\n",
       "  'Type': 'double'},\n",
       " 'region0/field/U_0/boundaryField': {'AvailableStepsCount': '1',\n",
       "  'Max': '127',\n",
       "  'Min': '-128',\n",
       "  'Shape': '',\n",
       "  'SingleValue': 'false',\n",
       "  'Type': 'int8_t'},\n",
       " 'region0/field/p': {'AvailableStepsCount': '1',\n",
       "  'Max': '0.559385',\n",
       "  'Min': '-0.781569',\n",
       "  'Shape': '',\n",
       "  'SingleValue': 'false',\n",
       "  'Type': 'double'},\n",
       " 'region0/field/p/boundaryField': {'AvailableStepsCount': '1',\n",
       "  'Max': '125',\n",
       "  'Min': '10',\n",
       "  'Shape': '',\n",
       "  'SingleValue': 'false',\n",
       "  'Type': 'int8_t'},\n",
       " 'region0/field/phi': {'AvailableStepsCount': '1',\n",
       "  'Max': '1.38741',\n",
       "  'Min': '-1.36676',\n",
       "  'Shape': '',\n",
       "  'SingleValue': 'false',\n",
       "  'Type': 'double'},\n",
       " 'region0/field/phi/boundaryField': {'AvailableStepsCount': '1',\n",
       "  'Max': '126',\n",
       "  'Min': '-128',\n",
       "  'Shape': '',\n",
       "  'SingleValue': 'false',\n",
       "  'Type': 'int8_t'},\n",
       " 'region0/field/phi_0': {'AvailableStepsCount': '1',\n",
       "  'Max': '1.38738',\n",
       "  'Min': '-1.36676',\n",
       "  'Shape': '',\n",
       "  'SingleValue': 'false',\n",
       "  'Type': 'double'},\n",
       " 'region0/field/phi_0/boundaryField': {'AvailableStepsCount': '1',\n",
       "  'Max': '127',\n",
       "  'Min': '-128',\n",
       "  'Shape': '',\n",
       "  'SingleValue': 'false',\n",
       "  'Type': 'int8_t'}}"
      ]
     },
     "execution_count": 17,
     "metadata": {},
     "output_type": "execute_result"
    }
   ],
   "source": [
    "data.available_variables()"
   ]
  },
  {
   "cell_type": "code",
   "execution_count": 20,
   "metadata": {},
   "outputs": [
    {
     "data": {
      "text/plain": [
       "array([ 0.00027898,  0.00181186, -0.00209085, ..., -0.00041963,\n",
       "       -0.0002984 , -0.0001591 ])"
      ]
     },
     "execution_count": 20,
     "metadata": {},
     "output_type": "execute_result"
    }
   ],
   "source": [
    "data.read('region0/field/phi_0')"
   ]
  },
  {
   "cell_type": "code",
   "execution_count": null,
   "metadata": {},
   "outputs": [],
   "source": []
  }
 ],
 "metadata": {
  "kernelspec": {
   "display_name": "Python 3",
   "language": "python",
   "name": "python3"
  },
  "language_info": {
   "codemirror_mode": {
    "name": "ipython",
    "version": 3
   },
   "file_extension": ".py",
   "mimetype": "text/x-python",
   "name": "python",
   "nbconvert_exporter": "python",
   "pygments_lexer": "ipython3",
   "version": "3.7.6"
  }
 },
 "nbformat": 4,
 "nbformat_minor": 4
}
